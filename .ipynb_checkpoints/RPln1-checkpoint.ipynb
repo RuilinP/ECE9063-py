{
 "cells": [
  {
   "cell_type": "code",
   "execution_count": 9,
   "id": "75db4e37-8e03-477b-8281-40a8a0ddbbcc",
   "metadata": {},
   "outputs": [],
   "source": [
    "import pandas as pd\n",
    "from sklearn.preprocessing import StandardScaler\n",
    "from sklearn.model_selection import train_test_split\n",
    "import tensorflow as tf\n",
    "import numpy as np\n",
    "\n",
    "\n",
    "# Load the CSV files\n",
    "amplitude_spectrum = pd.read_csv('amplitude_spectrum_RPIn1.csv', header=None)\n",
    "decibels = pd.read_csv('delta-theta-alpha-beta-RPIn1-decibels.csv', header=None)\n",
    "spectrum = pd.read_csv('delta_theta_alpha_beta-RPIn1.csv', header=None)\n",
    "binary_labels = pd.read_csv('r_r_binary.csv')  # Ensure the binary labels match the samples\n",
    "\n",
    "# Standardize each dataset\n",
    "scaler = StandardScaler()\n",
    "\n",
    "amplitude_spectrum_standardized = scaler.fit_transform(amplitude_spectrum)\n",
    "decibels_standardized = scaler.fit_transform(decibels)\n",
    "spectrum_standardized = scaler.fit_transform(spectrum)\n",
    "\n",
    "# Convert binary labels to numpy array\n",
    "binary_labels = binary_labels['Binary Label'].values  "
   ]
  },
  {
   "cell_type": "code",
   "execution_count": 10,
   "id": "df6896a9-8119-4c54-b280-044a28f2a3cb",
   "metadata": {},
   "outputs": [
    {
     "data": {
      "text/plain": [
       "253"
      ]
     },
     "execution_count": 10,
     "metadata": {},
     "output_type": "execute_result"
    }
   ],
   "source": [
    "len(binary_labels)"
   ]
  },
  {
   "cell_type": "code",
   "execution_count": 11,
   "id": "8ab55b20-8ca0-455c-a29e-4105da339de3",
   "metadata": {},
   "outputs": [],
   "source": [
    "from sklearn.model_selection import KFold\n",
    "\n",
    "def build_ffnn(input_dim):\n",
    "    model = tf.keras.Sequential([\n",
    "        tf.keras.layers.Dense(4, activation='relu', input_shape=(input_dim,)),\n",
    "        tf.keras.layers.Dense(4, activation='relu'),\n",
    "        tf.keras.layers.Dense(1, activation='sigmoid')\n",
    "    ])\n",
    "    model.compile(optimizer='adam', loss='binary_crossentropy', metrics=['accuracy'])\n",
    "    return model\n",
    "\n",
    "\n",
    "\n"
   ]
  },
  {
   "cell_type": "code",
   "execution_count": 12,
   "id": "b510390b-9dbb-4e90-938f-f5ea46b37131",
   "metadata": {},
   "outputs": [
    {
     "name": "stdout",
     "output_type": "stream",
     "text": [
      "\n",
      "Performing 4-Fold Cross-Validation on Amplitude Spectrum data...\n",
      "\n",
      "Fold 1\n"
     ]
    },
    {
     "name": "stderr",
     "output_type": "stream",
     "text": [
      "/home/ruilin/Desktop/ECE9063/assignment-1-assignment-group-51/venv/lib/python3.12/site-packages/keras/src/layers/core/dense.py:87: UserWarning: Do not pass an `input_shape`/`input_dim` argument to a layer. When using Sequential models, prefer using an `Input(shape)` object as the first layer in the model instead.\n",
      "  super().__init__(activity_regularizer=activity_regularizer, **kwargs)\n"
     ]
    },
    {
     "name": "stdout",
     "output_type": "stream",
     "text": [
      "Fold 1 - Loss: 0.6977, Accuracy: 0.5625\n",
      "\n",
      "Fold 2\n",
      "Fold 2 - Loss: 0.6973, Accuracy: 0.5079\n",
      "\n",
      "Fold 3\n",
      "Fold 3 - Loss: 0.6841, Accuracy: 0.6190\n",
      "\n",
      "Fold 4\n",
      "Fold 4 - Loss: 0.7028, Accuracy: 0.4762\n",
      "\n",
      "Performing 4-Fold Cross-Validation on Decibels data...\n",
      "\n",
      "Fold 1\n",
      "Fold 1 - Loss: 0.6886, Accuracy: 0.6406\n",
      "\n",
      "Fold 2\n",
      "Fold 2 - Loss: 0.7055, Accuracy: 0.4603\n",
      "\n",
      "Fold 3\n",
      "Fold 3 - Loss: 0.6966, Accuracy: 0.5079\n",
      "\n",
      "Fold 4\n",
      "Fold 4 - Loss: 0.7184, Accuracy: 0.4286\n",
      "\n",
      "Performing 4-Fold Cross-Validation on Spectrum data...\n",
      "\n",
      "Fold 1\n",
      "Fold 1 - Loss: 0.6912, Accuracy: 0.4375\n",
      "\n",
      "Fold 2\n",
      "Fold 2 - Loss: 0.6900, Accuracy: 0.5079\n",
      "\n",
      "Fold 3\n",
      "Fold 3 - Loss: 0.6899, Accuracy: 0.5714\n",
      "\n",
      "Fold 4\n",
      "Fold 4 - Loss: 0.6910, Accuracy: 0.4444\n",
      "\n",
      "Final Results:\n",
      "Amplitude Spectrum - Mean Loss: 0.6955, Mean Accuracy: 0.5414\n",
      "Decibels - Mean Loss: 0.7023, Mean Accuracy: 0.5094\n",
      "Spectrum - Mean Loss: 0.6905, Mean Accuracy: 0.4903\n"
     ]
    }
   ],
   "source": [
    "from sklearn.metrics import accuracy_score\n",
    "\n",
    "# Prepare datasets\n",
    "datasets = {\n",
    "    'Amplitude Spectrum': amplitude_spectrum_standardized,\n",
    "    'Decibels': decibels_standardized,\n",
    "    'Spectrum': spectrum_standardized\n",
    "}\n",
    "\n",
    "# Initialize 4-fold cross-validation\n",
    "kf = KFold(n_splits=4, shuffle=True, random_state=42)\n",
    "\n",
    "# Store results\n",
    "results = {}\n",
    "\n",
    "for name, data in datasets.items():\n",
    "    print(f\"\\nPerforming 4-Fold Cross-Validation on {name} data...\")\n",
    "    fold_accuracies = []\n",
    "    fold_losses = []\n",
    "    \n",
    "    # Perform cross-validation\n",
    "    for fold, (train_idx, test_idx) in enumerate(kf.split(data)):\n",
    "        print(f\"\\nFold {fold + 1}\")\n",
    "        \n",
    "        # Split data\n",
    "        X_train, X_test = data[train_idx], data[test_idx]\n",
    "        y_train, y_test = binary_labels[train_idx], binary_labels[test_idx]\n",
    "        \n",
    "        # Build and train the model\n",
    "        model = build_ffnn(input_dim=X_train.shape[1])\n",
    "        history = model.fit(X_train, y_train, epochs=20, batch_size=10, verbose=0)\n",
    "        \n",
    "        # Evaluate the model on the test set\n",
    "        loss, accuracy = model.evaluate(X_test, y_test, verbose=0)\n",
    "        fold_losses.append(loss)\n",
    "        fold_accuracies.append(accuracy)\n",
    "        print(f\"Fold {fold + 1} - Loss: {loss:.4f}, Accuracy: {accuracy:.4f}\")\n",
    "    \n",
    "    # Store mean performance across folds\n",
    "    results[name] = {\n",
    "        'Mean Loss': np.mean(fold_losses),\n",
    "        'Mean Accuracy': np.mean(fold_accuracies)\n",
    "    }\n",
    "\n",
    "# Print final results\n",
    "print(\"\\nFinal Results:\")\n",
    "for name, metrics in results.items():\n",
    "    print(f\"{name} - Mean Loss: {metrics['Mean Loss']:.4f}, Mean Accuracy: {metrics['Mean Accuracy']:.4f}\")\n"
   ]
  },
  {
   "cell_type": "code",
   "execution_count": null,
   "id": "c4066a0b-7a77-40e6-9b26-30f86d04d610",
   "metadata": {},
   "outputs": [],
   "source": []
  }
 ],
 "metadata": {
  "kernelspec": {
   "display_name": "test",
   "language": "python",
   "name": "test"
  },
  "language_info": {
   "codemirror_mode": {
    "name": "ipython",
    "version": 3
   },
   "file_extension": ".py",
   "mimetype": "text/x-python",
   "name": "python",
   "nbconvert_exporter": "python",
   "pygments_lexer": "ipython3",
   "version": "3.12.3"
  }
 },
 "nbformat": 4,
 "nbformat_minor": 5
}
