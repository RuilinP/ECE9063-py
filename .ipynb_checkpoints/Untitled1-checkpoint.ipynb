{
 "cells": [
  {
   "cell_type": "code",
   "execution_count": 2,
   "id": "449f8b06-fd4b-4f72-a650-517b39517dee",
   "metadata": {},
   "outputs": [
    {
     "name": "stdout",
     "output_type": "stream",
     "text": [
      "   Window Start Time (s)  R-R Interval Variance\n",
      "0                      0               0.000378\n",
      "1                     10               0.001434\n",
      "2                     20               0.001112\n",
      "3                     30               0.001777\n",
      "4                     40               0.002868\n",
      "     Delta   Theta    Alpha     Beta\n",
      "0  340.140  11.509  0.84212  1.08900\n",
      "1  586.870  10.906  1.37470  1.32440\n",
      "2  311.100  12.578  0.95956  1.15360\n",
      "3   98.473  11.054  0.63695  1.04680\n",
      "4  193.710   9.809  0.41385  0.71411\n",
      "   Delta_Log  Theta_Log  Alpha_Log  Beta_Log\n",
      "0     25.317    10.6110   -0.74625   0.37037\n",
      "1     27.685    10.3770    1.38200   1.22020\n",
      "2     24.929    10.9960   -0.17929   0.62049\n",
      "3     19.933    10.4350   -1.95900   0.19861\n",
      "4     22.872     9.9162   -3.83160  -1.46230\n"
     ]
    }
   ],
   "source": [
    "import pandas as pd\n",
    "\n",
    "# Load HRV variance data\n",
    "hrv_data = pd.read_csv(\"rr_interval_variances.csv\")\n",
    "\n",
    "# Load EEG power spectrum data (raw and log-transformed)\n",
    "eeg_power = pd.read_csv(\"delta_theta_alpha_beta-RAHC7.csv\", header=None)\n",
    "eeg_power_log = pd.read_csv(\"delta-theta-alpha-beta-RAHC7-decibels.csv\", header=None)\n",
    "\n",
    "# Assign columns for clarity\n",
    "eeg_power.columns = [\"Delta\", \"Theta\", \"Alpha\", \"Beta\"]\n",
    "eeg_power_log.columns = [\"Delta_Log\", \"Theta_Log\", \"Alpha_Log\", \"Beta_Log\"]\n",
    "\n",
    "# Display first few rows for verification\n",
    "print(hrv_data.head())\n",
    "print(eeg_power.head())\n",
    "print(eeg_power_log.head())\n"
   ]
  },
  {
   "cell_type": "code",
   "execution_count": 4,
   "id": "6bdb2dd9-f1ae-426b-92e2-2cd4ed947d23",
   "metadata": {},
   "outputs": [],
   "source": [
    "# Align lengths\n",
    "min_length = min(len(hrv_data), len(eeg_power), len(eeg_power_log))\n",
    "hrv_data = hrv_data.iloc[:min_length]\n",
    "eeg_power = eeg_power.iloc[:min_length]\n",
    "eeg_power_log = eeg_power_log.iloc[:min_length]\n",
    "\n",
    "# Extract the HRV variance sequence\n",
    "hrv_variance = hrv_data[\"R-R Interval Variance\"]\n"
   ]
  },
  {
   "cell_type": "code",
   "execution_count": 5,
   "id": "77419ecc-d6e1-4760-a674-915649e38dc9",
   "metadata": {},
   "outputs": [
    {
     "name": "stdout",
     "output_type": "stream",
     "text": [
      "Correlation with Raw Power Spectrum:\n",
      "Delta    0.046581\n",
      "Theta   -0.065507\n",
      "Alpha   -0.064505\n",
      "Beta    -0.062225\n",
      "dtype: float64\n",
      "\n",
      "Correlation with Log-Transformed Power Spectrum:\n",
      "Delta_Log    0.070334\n",
      "Theta_Log   -0.065638\n",
      "Alpha_Log   -0.051125\n",
      "Beta_Log    -0.136353\n",
      "dtype: float64\n"
     ]
    }
   ],
   "source": [
    "# Compute correlations with raw power spectrum\n",
    "correlations_raw = eeg_power.corrwith(hrv_variance)\n",
    "\n",
    "# Compute correlations with log-transformed power spectrum\n",
    "correlations_log = eeg_power_log.corrwith(hrv_variance)\n",
    "\n",
    "# Display results\n",
    "print(\"Correlation with Raw Power Spectrum:\")\n",
    "print(correlations_raw)\n",
    "\n",
    "print(\"\\nCorrelation with Log-Transformed Power Spectrum:\")\n",
    "print(correlations_log)\n"
   ]
  },
  {
   "cell_type": "code",
   "execution_count": 6,
   "id": "e3911403-7095-44cf-913e-3d4298c84409",
   "metadata": {},
   "outputs": [
    {
     "name": "stdout",
     "output_type": "stream",
     "text": [
      "253 253 253\n"
     ]
    }
   ],
   "source": [
    "print(len(hrv_data), len(eeg_power), len(eeg_power_log))"
   ]
  },
  {
   "cell_type": "code",
   "execution_count": null,
   "id": "43a8f089-a656-4d20-9527-b70295b14147",
   "metadata": {},
   "outputs": [],
   "source": []
  }
 ],
 "metadata": {
  "kernelspec": {
   "display_name": "test",
   "language": "python",
   "name": "test"
  },
  "language_info": {
   "codemirror_mode": {
    "name": "ipython",
    "version": 3
   },
   "file_extension": ".py",
   "mimetype": "text/x-python",
   "name": "python",
   "nbconvert_exporter": "python",
   "pygments_lexer": "ipython3",
   "version": "3.12.3"
  }
 },
 "nbformat": 4,
 "nbformat_minor": 5
}
