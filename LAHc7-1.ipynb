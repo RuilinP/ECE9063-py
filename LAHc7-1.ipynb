{
 "cells": [
  {
   "cell_type": "code",
   "execution_count": 1,
   "id": "75db4e37-8e03-477b-8281-40a8a0ddbbcc",
   "metadata": {},
   "outputs": [
    {
     "name": "stderr",
     "output_type": "stream",
     "text": [
      "2024-12-01 18:35:00.040518: I external/local_xla/xla/tsl/cuda/cudart_stub.cc:32] Could not find cuda drivers on your machine, GPU will not be used.\n",
      "2024-12-01 18:35:00.266262: I external/local_xla/xla/tsl/cuda/cudart_stub.cc:32] Could not find cuda drivers on your machine, GPU will not be used.\n",
      "2024-12-01 18:35:00.485522: E external/local_xla/xla/stream_executor/cuda/cuda_fft.cc:477] Unable to register cuFFT factory: Attempting to register factory for plugin cuFFT when one has already been registered\n",
      "WARNING: All log messages before absl::InitializeLog() is called are written to STDERR\n",
      "E0000 00:00:1733096100.765579   10004 cuda_dnn.cc:8310] Unable to register cuDNN factory: Attempting to register factory for plugin cuDNN when one has already been registered\n",
      "E0000 00:00:1733096100.902376   10004 cuda_blas.cc:1418] Unable to register cuBLAS factory: Attempting to register factory for plugin cuBLAS when one has already been registered\n",
      "2024-12-01 18:35:01.599457: I tensorflow/core/platform/cpu_feature_guard.cc:210] This TensorFlow binary is optimized to use available CPU instructions in performance-critical operations.\n",
      "To enable the following instructions: AVX2 FMA, in other operations, rebuild TensorFlow with the appropriate compiler flags.\n"
     ]
    }
   ],
   "source": [
    "import pandas as pd\n",
    "from sklearn.preprocessing import StandardScaler\n",
    "from sklearn.model_selection import train_test_split\n",
    "import tensorflow as tf\n",
    "import numpy as np\n",
    "\n",
    "\n",
    "# Load the CSV files\n",
    "amplitude_spectrum = pd.read_csv('AMP_delta_theta_alpha_beta_LAHc7.csv', header=None)\n",
    "decibels = pd.read_csv('PSD_DEC_delta_theta_alpha_beta_LAHc7.csv', header=None)\n",
    "spectrum = pd.read_csv('PSD_delta_theta_alpha_beta_LAHc7.csv', header=None)\n",
    "binary_labels = pd.read_csv('r_r_binary.csv')  # Ensure the binary labels match the samples\n",
    "\n",
    "# Standardize each dataset\n",
    "scaler = StandardScaler()\n",
    "\n",
    "amplitude_spectrum_standardized = scaler.fit_transform(amplitude_spectrum)\n",
    "decibels_standardized = scaler.fit_transform(decibels)\n",
    "spectrum_standardized = scaler.fit_transform(spectrum)\n",
    "\n",
    "# Convert binary labels to numpy array\n",
    "binary_labels = binary_labels['Binary Label'].values  \n",
    "\n",
    "X_train_full, X_test, y_train_full, y_test = train_test_split(\n",
    "    amplitude_spectrum_standardized, binary_labels, test_size=0.2, random_state=42\n",
    ")"
   ]
  },
  {
   "cell_type": "code",
   "execution_count": 3,
   "id": "df6896a9-8119-4c54-b280-044a28f2a3cb",
   "metadata": {},
   "outputs": [
    {
     "data": {
      "text/plain": [
       "253"
      ]
     },
     "execution_count": 3,
     "metadata": {},
     "output_type": "execute_result"
    }
   ],
   "source": [
    "len(binary_labels)"
   ]
  },
  {
   "cell_type": "code",
   "execution_count": 4,
   "id": "8ab55b20-8ca0-455c-a29e-4105da339de3",
   "metadata": {},
   "outputs": [
    {
     "name": "stdout",
     "output_type": "stream",
     "text": [
      "Training set shape (for k-fold): (202, 4), (202,)\n",
      "Test set shape: (51, 4), (51,)\n"
     ]
    }
   ],
   "source": [
    "from sklearn.model_selection import train_test_split\n",
    "from sklearn.model_selection import KFold\n",
    "# Reserve a separate test set\n",
    "X_train_full, X_test, y_train_full, y_test = train_test_split(\n",
    "    amplitude_spectrum_standardized, binary_labels, test_size=0.2, random_state=42\n",
    ")\n",
    "\n",
    "# Verify the split\n",
    "print(f\"Training set shape (for k-fold): {X_train_full.shape}, {y_train_full.shape}\")\n",
    "print(f\"Test set shape: {X_test.shape}, {y_test.shape}\")\n"
   ]
  },
  {
   "cell_type": "code",
   "execution_count": 10,
   "id": "b510390b-9dbb-4e90-938f-f5ea46b37131",
   "metadata": {},
   "outputs": [
    {
     "name": "stdout",
     "output_type": "stream",
     "text": [
      "\n",
      "Fold 1\n",
      "Validation Loss: 0.6948, Validation Accuracy: 0.4853\n",
      "\n",
      "Fold 2\n",
      "Validation Loss: 0.7161, Validation Accuracy: 0.4925\n",
      "\n",
      "Fold 3\n",
      "Validation Loss: 0.7037, Validation Accuracy: 0.5672\n",
      "\n",
      "K-Fold Validation Results:\n",
      "Mean Validation Loss: 0.7049\n",
      "Mean Validation Accuracy: 0.5150\n"
     ]
    }
   ],
   "source": [
    "# Initialize K-Fold Cross-Validation\n",
    "kf = KFold(n_splits=3, shuffle=True, random_state=42)\n",
    "\n",
    "fold_accuracies = []\n",
    "fold_losses = []\n",
    "\n",
    "# Perform k-fold cross-validation\n",
    "for fold, (train_idx, val_idx) in enumerate(kf.split(X_train_full)):\n",
    "    print(f\"\\nFold {fold + 1}\")\n",
    "    \n",
    "    # Split into training and validation sets for this fold\n",
    "    X_train, X_val = X_train_full[train_idx], X_train_full[val_idx]\n",
    "    y_train, y_val = y_train_full[train_idx], y_train_full[val_idx]\n",
    "    \n",
    "    # Build and compile the model\n",
    "    model = tf.keras.Sequential([\n",
    "        tf.keras.layers.Dense(4, activation='relu', input_shape=(X_train.shape[1],)),\n",
    "        tf.keras.layers.Dense(4, activation='relu'),\n",
    "        tf.keras.layers.Dense(1, activation='sigmoid')\n",
    "    ])\n",
    "    model.compile(optimizer='adam', loss='binary_crossentropy', metrics=['accuracy'])\n",
    "    \n",
    "    # Train the model\n",
    "    history = model.fit(X_train, y_train, epochs=20, batch_size=8, validation_data=(X_val, y_val), verbose=0)\n",
    "    \n",
    "    # Evaluate on validation set\n",
    "    val_loss, val_accuracy = model.evaluate(X_val, y_val, verbose=0)\n",
    "    print(f\"Validation Loss: {val_loss:.4f}, Validation Accuracy: {val_accuracy:.4f}\")\n",
    "    \n",
    "    fold_losses.append(val_loss)\n",
    "    fold_accuracies.append(val_accuracy)\n",
    "\n",
    "# Calculate and display mean results from k-fold validation\n",
    "mean_loss = np.mean(fold_losses)\n",
    "mean_accuracy = np.mean(fold_accuracies)\n",
    "\n",
    "print(\"\\nK-Fold Validation Results:\")\n",
    "print(f\"Mean Validation Loss: {mean_loss:.4f}\")\n",
    "print(f\"Mean Validation Accuracy: {mean_accuracy:.4f}\")"
   ]
  },
  {
   "cell_type": "code",
   "execution_count": 6,
   "id": "c4066a0b-7a77-40e6-9b26-30f86d04d610",
   "metadata": {},
   "outputs": [
    {
     "name": "stdout",
     "output_type": "stream",
     "text": [
      "\n",
      "Final Test Results:\n",
      "Test Loss: 0.7152\n",
      "Test Accuracy: 0.3529\n"
     ]
    }
   ],
   "source": [
    "# Evaluate the model on the test set\n",
    "test_loss, test_accuracy = model.evaluate(X_test, y_test, verbose=0)\n",
    "print(\"\\nFinal Test Results:\")\n",
    "print(f\"Test Loss: {test_loss:.4f}\")\n",
    "print(f\"Test Accuracy: {test_accuracy:.4f}\")\n"
   ]
  },
  {
   "cell_type": "code",
   "execution_count": 24,
   "id": "77d4c0be-6609-4853-81ad-a68285b958f9",
   "metadata": {},
   "outputs": [],
   "source": [
    "import keras_tuner as kt\n",
    "\n",
    "def build_model(hp):\n",
    "    model = tf.keras.Sequential([\n",
    "        tf.keras.layers.Dense(hp.Int('units', min_value=16, max_value=64, step=16), \n",
    "                              activation=hp.Choice('activation', ['relu', 'tanh'])),\n",
    "        tf.keras.layers.Dense(hp.Int('units', min_value=16, max_value=64, step=16), \n",
    "                              activation=hp.Choice('activation', ['relu', 'tanh'])),\n",
    "        tf.keras.layers.Dense(1, activation='sigmoid')\n",
    "    ])\n",
    "    model.compile(\n",
    "        optimizer=hp.Choice('optimizer', ['adam', 'sgd']),\n",
    "        loss='binary_crossentropy',\n",
    "        metrics=['accuracy']\n",
    "    )\n",
    "    return model"
   ]
  },
  {
   "cell_type": "code",
   "execution_count": 25,
   "id": "f7f922d6-043f-48c2-be12-60caaa451e88",
   "metadata": {},
   "outputs": [
    {
     "name": "stdout",
     "output_type": "stream",
     "text": [
      "Reloading Tuner from my_dir/ffnn_tuning/tuner0.json\n",
      "Best Hyperparameters: {'units': 16, 'activation': 'tanh', 'optimizer': 'sgd'}\n"
     ]
    }
   ],
   "source": [
    "# Initialize the tuner\n",
    "tuner = kt.RandomSearch(\n",
    "    build_model,\n",
    "    objective='val_accuracy',\n",
    "    max_trials=100,\n",
    "    executions_per_trial=1,\n",
    "    directory='my_dir',\n",
    "    project_name='ffnn_tuning'\n",
    ")\n",
    "\n",
    "# Search for the best hyperparameters\n",
    "tuner.search(X_train, y_train, epochs=50, validation_split=0.2, verbose=1)\n",
    "\n",
    "# Get the best hyperparameters and model\n",
    "best_hps = tuner.get_best_hyperparameters(num_trials=1)[0]\n",
    "print(f\"Best Hyperparameters: {best_hps.values}\")"
   ]
  },
  {
   "cell_type": "code",
   "execution_count": 12,
   "id": "e819d2d0-158a-454e-9c6f-c2cb2afb5868",
   "metadata": {},
   "outputs": [
    {
     "name": "stdout",
     "output_type": "stream",
     "text": [
      "Epoch 1/20\n",
      "\u001b[1m14/14\u001b[0m \u001b[32m━━━━━━━━━━━━━━━━━━━━\u001b[0m\u001b[37m\u001b[0m \u001b[1m2s\u001b[0m 25ms/step - accuracy: 0.5404 - loss: 0.7352 - val_accuracy: 0.5926 - val_loss: 0.6829\n",
      "Epoch 2/20\n",
      "\u001b[1m14/14\u001b[0m \u001b[32m━━━━━━━━━━━━━━━━━━━━\u001b[0m\u001b[37m\u001b[0m \u001b[1m0s\u001b[0m 7ms/step - accuracy: 0.5982 - loss: 0.6586 - val_accuracy: 0.5926 - val_loss: 0.6871\n",
      "Epoch 3/20\n",
      "\u001b[1m14/14\u001b[0m \u001b[32m━━━━━━━━━━━━━━━━━━━━\u001b[0m\u001b[37m\u001b[0m \u001b[1m0s\u001b[0m 7ms/step - accuracy: 0.5650 - loss: 0.6694 - val_accuracy: 0.4815 - val_loss: 0.7058\n",
      "Epoch 4/20\n",
      "\u001b[1m14/14\u001b[0m \u001b[32m━━━━━━━━━━━━━━━━━━━━\u001b[0m\u001b[37m\u001b[0m \u001b[1m0s\u001b[0m 7ms/step - accuracy: 0.6277 - loss: 0.6589 - val_accuracy: 0.5185 - val_loss: 0.7167\n",
      "Epoch 5/20\n",
      "\u001b[1m14/14\u001b[0m \u001b[32m━━━━━━━━━━━━━━━━━━━━\u001b[0m\u001b[37m\u001b[0m \u001b[1m0s\u001b[0m 7ms/step - accuracy: 0.5276 - loss: 0.6828 - val_accuracy: 0.5185 - val_loss: 0.6782\n",
      "Epoch 6/20\n",
      "\u001b[1m14/14\u001b[0m \u001b[32m━━━━━━━━━━━━━━━━━━━━\u001b[0m\u001b[37m\u001b[0m \u001b[1m0s\u001b[0m 8ms/step - accuracy: 0.5945 - loss: 0.6725 - val_accuracy: 0.5926 - val_loss: 0.6684\n",
      "Epoch 7/20\n",
      "\u001b[1m14/14\u001b[0m \u001b[32m━━━━━━━━━━━━━━━━━━━━\u001b[0m\u001b[37m\u001b[0m \u001b[1m0s\u001b[0m 8ms/step - accuracy: 0.4684 - loss: 0.6990 - val_accuracy: 0.4444 - val_loss: 0.7017\n",
      "Epoch 8/20\n",
      "\u001b[1m14/14\u001b[0m \u001b[32m━━━━━━━━━━━━━━━━━━━━\u001b[0m\u001b[37m\u001b[0m \u001b[1m0s\u001b[0m 7ms/step - accuracy: 0.6587 - loss: 0.6369 - val_accuracy: 0.4815 - val_loss: 0.7486\n",
      "Epoch 9/20\n",
      "\u001b[1m14/14\u001b[0m \u001b[32m━━━━━━━━━━━━━━━━━━━━\u001b[0m\u001b[37m\u001b[0m \u001b[1m0s\u001b[0m 8ms/step - accuracy: 0.6910 - loss: 0.6407 - val_accuracy: 0.5926 - val_loss: 0.6832\n",
      "Epoch 10/20\n",
      "\u001b[1m14/14\u001b[0m \u001b[32m━━━━━━━━━━━━━━━━━━━━\u001b[0m\u001b[37m\u001b[0m \u001b[1m0s\u001b[0m 8ms/step - accuracy: 0.5953 - loss: 0.6599 - val_accuracy: 0.4444 - val_loss: 0.7208\n",
      "Epoch 11/20\n",
      "\u001b[1m14/14\u001b[0m \u001b[32m━━━━━━━━━━━━━━━━━━━━\u001b[0m\u001b[37m\u001b[0m \u001b[1m0s\u001b[0m 8ms/step - accuracy: 0.6396 - loss: 0.6246 - val_accuracy: 0.4444 - val_loss: 0.7187\n",
      "Epoch 12/20\n",
      "\u001b[1m14/14\u001b[0m \u001b[32m━━━━━━━━━━━━━━━━━━━━\u001b[0m\u001b[37m\u001b[0m \u001b[1m0s\u001b[0m 10ms/step - accuracy: 0.5916 - loss: 0.6702 - val_accuracy: 0.5926 - val_loss: 0.6833\n",
      "Epoch 13/20\n",
      "\u001b[1m14/14\u001b[0m \u001b[32m━━━━━━━━━━━━━━━━━━━━\u001b[0m\u001b[37m\u001b[0m \u001b[1m0s\u001b[0m 11ms/step - accuracy: 0.5335 - loss: 0.6941 - val_accuracy: 0.6667 - val_loss: 0.6827\n",
      "Epoch 14/20\n",
      "\u001b[1m14/14\u001b[0m \u001b[32m━━━━━━━━━━━━━━━━━━━━\u001b[0m\u001b[37m\u001b[0m \u001b[1m0s\u001b[0m 9ms/step - accuracy: 0.6154 - loss: 0.6415 - val_accuracy: 0.5926 - val_loss: 0.7127\n",
      "Epoch 15/20\n",
      "\u001b[1m14/14\u001b[0m \u001b[32m━━━━━━━━━━━━━━━━━━━━\u001b[0m\u001b[37m\u001b[0m \u001b[1m0s\u001b[0m 8ms/step - accuracy: 0.5868 - loss: 0.6664 - val_accuracy: 0.5556 - val_loss: 0.7214\n",
      "Epoch 16/20\n",
      "\u001b[1m14/14\u001b[0m \u001b[32m━━━━━━━━━━━━━━━━━━━━\u001b[0m\u001b[37m\u001b[0m \u001b[1m0s\u001b[0m 7ms/step - accuracy: 0.6095 - loss: 0.6390 - val_accuracy: 0.5556 - val_loss: 0.6957\n",
      "Epoch 17/20\n",
      "\u001b[1m14/14\u001b[0m \u001b[32m━━━━━━━━━━━━━━━━━━━━\u001b[0m\u001b[37m\u001b[0m \u001b[1m0s\u001b[0m 9ms/step - accuracy: 0.5826 - loss: 0.6796 - val_accuracy: 0.6296 - val_loss: 0.6894\n",
      "Epoch 18/20\n",
      "\u001b[1m14/14\u001b[0m \u001b[32m━━━━━━━━━━━━━━━━━━━━\u001b[0m\u001b[37m\u001b[0m \u001b[1m0s\u001b[0m 10ms/step - accuracy: 0.6231 - loss: 0.6588 - val_accuracy: 0.5185 - val_loss: 0.7305\n",
      "Epoch 19/20\n",
      "\u001b[1m14/14\u001b[0m \u001b[32m━━━━━━━━━━━━━━━━━━━━\u001b[0m\u001b[37m\u001b[0m \u001b[1m0s\u001b[0m 6ms/step - accuracy: 0.5713 - loss: 0.7040 - val_accuracy: 0.6296 - val_loss: 0.6988\n",
      "Epoch 20/20\n",
      "\u001b[1m14/14\u001b[0m \u001b[32m━━━━━━━━━━━━━━━━━━━━\u001b[0m\u001b[37m\u001b[0m \u001b[1m0s\u001b[0m 7ms/step - accuracy: 0.5349 - loss: 0.6950 - val_accuracy: 0.5926 - val_loss: 0.7011\n",
      "\n",
      "Final Test Loss: 0.6535\n",
      "Final Test Accuracy: 0.6863\n"
     ]
    }
   ],
   "source": [
    "import keras as kr\n",
    "# Build the model with the best hyperparameters\n",
    "final_model = tf.keras.Sequential([\n",
    "    tf.keras.layers.Dense(16, activation='tanh', input_shape=(X_train.shape[1],)),  # First hidden layer\n",
    "    tf.keras.layers.Dense(16, activation='tanh'),  # Second hidden layer\n",
    "    tf.keras.layers.Dense(1, activation='sigmoid')  # Output layer\n",
    "])\n",
    "\n",
    "optimizer = kr.optimizers.SGD(learning_rate=0.1)\n",
    "# Compile the model with SGD optimizer\n",
    "final_model.compile(optimizer=optimizer, loss='binary_crossentropy', metrics=['accuracy'])\n",
    "\n",
    "# Train the model\n",
    "history = final_model.fit(\n",
    "    X_train, y_train,\n",
    "    epochs=20,  \n",
    "    batch_size=8,\n",
    "    validation_split=0.2,\n",
    "    verbose=1\n",
    ")\n",
    "\n",
    "# Evaluate the model on the test set\n",
    "test_loss, test_accuracy = final_model.evaluate(X_test, y_test, verbose=0)\n",
    "print(f\"\\nFinal Test Loss: {test_loss:.4f}\")\n",
    "print(f\"Final Test Accuracy: {test_accuracy:.4f}\")\n"
   ]
  },
  {
   "cell_type": "code",
   "execution_count": 15,
   "id": "12e10f4c-7a4a-4063-b1d6-db25acc73523",
   "metadata": {},
   "outputs": [
    {
     "name": "stdout",
     "output_type": "stream",
     "text": [
      "\u001b[1m2/2\u001b[0m \u001b[32m━━━━━━━━━━━━━━━━━━━━\u001b[0m\u001b[37m\u001b[0m \u001b[1m0s\u001b[0m 16ms/step\n",
      "    Actual  Predicted  Probability\n",
      "0        0          0     0.379378\n",
      "1        1          1     0.693534\n",
      "2        0          0     0.409110\n",
      "3        0          1     0.700284\n",
      "4        0          1     0.512581\n",
      "5        0          0     0.303415\n",
      "6        1          1     0.642386\n",
      "7        1          0     0.348767\n",
      "8        1          0     0.383353\n",
      "9        0          0     0.309137\n",
      "10       0          0     0.438354\n",
      "11       1          0     0.351249\n",
      "12       0          0     0.450367\n",
      "13       1          0     0.265400\n",
      "14       0          1     0.634236\n",
      "15       0          1     0.705535\n",
      "16       0          1     0.607997\n",
      "17       1          1     0.606591\n",
      "18       1          1     0.619339\n",
      "19       0          0     0.407189\n"
     ]
    }
   ],
   "source": [
    "# Predict probabilities for the test set\n",
    "predicted_probabilities = final_model.predict(X_test)\n",
    "\n",
    "# Convert probabilities to binary predictions (threshold: 0.5)\n",
    "predicted_labels = (predicted_probabilities >= 0.5).astype(int).flatten()\n",
    "\n",
    "# Compare predictions with actual labels\n",
    "comparison_df = pd.DataFrame({\n",
    "    'Actual': y_test,\n",
    "    'Predicted': predicted_labels,\n",
    "    'Probability': predicted_probabilities.flatten()\n",
    "})\n",
    "\n",
    "# Print a sample of the comparison\n",
    "print(comparison_df.head(20))\n"
   ]
  },
  {
   "cell_type": "code",
   "execution_count": 15,
   "id": "fd92d5de-ad81-4fb6-acfc-4844640860c4",
   "metadata": {},
   "outputs": [
    {
     "name": "stdout",
     "output_type": "stream",
     "text": [
      "\n",
      "Fold 1\n",
      "Epoch 1/5\n",
      "\u001b[1m6/6\u001b[0m \u001b[32m━━━━━━━━━━━━━━━━━━━━\u001b[0m\u001b[37m\u001b[0m \u001b[1m1s\u001b[0m 72ms/step - accuracy: 0.4727 - loss: 0.7220 - val_accuracy: 0.4118 - val_loss: 0.7399\n",
      "Epoch 2/5\n",
      "\u001b[1m6/6\u001b[0m \u001b[32m━━━━━━━━━━━━━━━━━━━━\u001b[0m\u001b[37m\u001b[0m \u001b[1m0s\u001b[0m 15ms/step - accuracy: 0.4496 - loss: 0.7217 - val_accuracy: 0.4118 - val_loss: 0.7368\n",
      "Epoch 3/5\n",
      "\u001b[1m6/6\u001b[0m \u001b[32m━━━━━━━━━━━━━━━━━━━━\u001b[0m\u001b[37m\u001b[0m \u001b[1m0s\u001b[0m 12ms/step - accuracy: 0.4417 - loss: 0.7222 - val_accuracy: 0.3971 - val_loss: 0.7360\n",
      "Epoch 4/5\n",
      "\u001b[1m6/6\u001b[0m \u001b[32m━━━━━━━━━━━━━━━━━━━━\u001b[0m\u001b[37m\u001b[0m \u001b[1m0s\u001b[0m 15ms/step - accuracy: 0.4693 - loss: 0.7189 - val_accuracy: 0.3824 - val_loss: 0.7352\n",
      "Epoch 5/5\n",
      "\u001b[1m6/6\u001b[0m \u001b[32m━━━━━━━━━━━━━━━━━━━━\u001b[0m\u001b[37m\u001b[0m \u001b[1m0s\u001b[0m 13ms/step - accuracy: 0.5023 - loss: 0.7082 - val_accuracy: 0.3824 - val_loss: 0.7334\n",
      "Validation Loss: 0.7334, Validation Accuracy: 0.3824\n",
      "\n",
      "Fold 2\n",
      "Epoch 1/5\n",
      "\u001b[1m6/6\u001b[0m \u001b[32m━━━━━━━━━━━━━━━━━━━━\u001b[0m\u001b[37m\u001b[0m \u001b[1m1s\u001b[0m 59ms/step - accuracy: 0.5658 - loss: 0.6967 - val_accuracy: 0.5224 - val_loss: 0.6896\n",
      "Epoch 2/5\n",
      "\u001b[1m6/6\u001b[0m \u001b[32m━━━━━━━━━━━━━━━━━━━━\u001b[0m\u001b[37m\u001b[0m \u001b[1m0s\u001b[0m 37ms/step - accuracy: 0.5380 - loss: 0.6981 - val_accuracy: 0.5075 - val_loss: 0.6916\n",
      "Epoch 3/5\n",
      "\u001b[1m6/6\u001b[0m \u001b[32m━━━━━━━━━━━━━━━━━━━━\u001b[0m\u001b[37m\u001b[0m \u001b[1m0s\u001b[0m 38ms/step - accuracy: 0.5954 - loss: 0.6765 - val_accuracy: 0.5373 - val_loss: 0.6900\n",
      "Epoch 4/5\n",
      "\u001b[1m6/6\u001b[0m \u001b[32m━━━━━━━━━━━━━━━━━━━━\u001b[0m\u001b[37m\u001b[0m \u001b[1m0s\u001b[0m 36ms/step - accuracy: 0.5821 - loss: 0.6733 - val_accuracy: 0.5373 - val_loss: 0.6895\n",
      "Epoch 5/5\n",
      "\u001b[1m6/6\u001b[0m \u001b[32m━━━━━━━━━━━━━━━━━━━━\u001b[0m\u001b[37m\u001b[0m \u001b[1m0s\u001b[0m 48ms/step - accuracy: 0.5527 - loss: 0.6827 - val_accuracy: 0.5224 - val_loss: 0.6892\n",
      "Validation Loss: 0.6892, Validation Accuracy: 0.5224\n",
      "\n",
      "Fold 3\n",
      "Epoch 1/5\n",
      "\u001b[1m6/6\u001b[0m \u001b[32m━━━━━━━━━━━━━━━━━━━━\u001b[0m\u001b[37m\u001b[0m \u001b[1m3s\u001b[0m 153ms/step - accuracy: 0.4130 - loss: 0.7471 - val_accuracy: 0.5224 - val_loss: 0.7031\n",
      "Epoch 2/5\n",
      "\u001b[1m6/6\u001b[0m \u001b[32m━━━━━━━━━━━━━━━━━━━━\u001b[0m\u001b[37m\u001b[0m \u001b[1m1s\u001b[0m 25ms/step - accuracy: 0.3977 - loss: 0.7540 - val_accuracy: 0.5075 - val_loss: 0.7012\n",
      "Epoch 3/5\n",
      "\u001b[1m6/6\u001b[0m \u001b[32m━━━━━━━━━━━━━━━━━━━━\u001b[0m\u001b[37m\u001b[0m \u001b[1m0s\u001b[0m 21ms/step - accuracy: 0.4335 - loss: 0.7336 - val_accuracy: 0.5075 - val_loss: 0.7000\n",
      "Epoch 4/5\n",
      "\u001b[1m6/6\u001b[0m \u001b[32m━━━━━━━━━━━━━━━━━━━━\u001b[0m\u001b[37m\u001b[0m \u001b[1m0s\u001b[0m 23ms/step - accuracy: 0.3714 - loss: 0.7468 - val_accuracy: 0.5075 - val_loss: 0.6993\n",
      "Epoch 5/5\n",
      "\u001b[1m6/6\u001b[0m \u001b[32m━━━━━━━━━━━━━━━━━━━━\u001b[0m\u001b[37m\u001b[0m \u001b[1m0s\u001b[0m 31ms/step - accuracy: 0.4093 - loss: 0.7220 - val_accuracy: 0.4776 - val_loss: 0.6990\n",
      "Validation Loss: 0.6990, Validation Accuracy: 0.4776\n",
      "\n",
      "Mean Validation Loss (3-Fold): 0.7072\n",
      "Mean Validation Accuracy (3-Fold): 0.4608\n"
     ]
    }
   ],
   "source": [
    "kf = KFold(n_splits=3, shuffle=True, random_state=42)\n",
    "\n",
    "fold_accuracies = []\n",
    "fold_losses = []\n",
    "\n",
    "# Loop over each fold\n",
    "for fold, (train_idx, val_idx) in enumerate(kf.split(X_train_full)):\n",
    "    print(f\"\\nFold {fold + 1}\")\n",
    "\n",
    "    # Split the training data into k-fold training and validation sets\n",
    "    X_train, X_val = X_train_full[train_idx], X_train_full[val_idx]\n",
    "    y_train, y_val = y_train_full[train_idx], y_train_full[val_idx]\n",
    "\n",
    "    # Build the model\n",
    "    final_model = tf.keras.Sequential([\n",
    "        tf.keras.layers.Dense(16, activation='tanh', input_shape=(X_train.shape[1],)),\n",
    "        tf.keras.layers.Dense(16, activation='tanh'),\n",
    "        tf.keras.layers.Dense(1, activation='sigmoid')\n",
    "    ])\n",
    "    \n",
    "    # Compile the model with SGD optimizer\n",
    "    optimizer = kr.optimizers.SGD(learning_rate=0.01)\n",
    "    final_model.compile(optimizer=optimizer, loss='binary_crossentropy', metrics=['accuracy'])\n",
    "    \n",
    "    # Train the model\n",
    "    history = final_model.fit(\n",
    "        X_train, y_train,\n",
    "        epochs=5,\n",
    "        batch_size=25,\n",
    "        validation_data=(X_val, y_val),\n",
    "        verbose=1\n",
    "    )\n",
    "    \n",
    "    # Evaluate on the validation set\n",
    "    val_loss, val_accuracy = final_model.evaluate(X_val, y_val, verbose=0)\n",
    "    print(f\"Validation Loss: {val_loss:.4f}, Validation Accuracy: {val_accuracy:.4f}\")\n",
    "    \n",
    "    fold_losses.append(val_loss)\n",
    "    fold_accuracies.append(val_accuracy)\n",
    "\n",
    "# Calculate average performance across folds\n",
    "mean_loss = np.mean(fold_losses)\n",
    "mean_accuracy = np.mean(fold_accuracies)\n",
    "\n",
    "print(f\"\\nMean Validation Loss (3-Fold): {mean_loss:.4f}\")\n",
    "print(f\"Mean Validation Accuracy (3-Fold): {mean_accuracy:.4f}\")\n"
   ]
  },
  {
   "cell_type": "code",
   "execution_count": null,
   "id": "73e49e70-685c-4af1-bbd9-ce43e1362742",
   "metadata": {},
   "outputs": [],
   "source": []
  }
 ],
 "metadata": {
  "kernelspec": {
   "display_name": "test",
   "language": "python",
   "name": "test"
  },
  "language_info": {
   "codemirror_mode": {
    "name": "ipython",
    "version": 3
   },
   "file_extension": ".py",
   "mimetype": "text/x-python",
   "name": "python",
   "nbconvert_exporter": "python",
   "pygments_lexer": "ipython3",
   "version": "3.12.3"
  }
 },
 "nbformat": 4,
 "nbformat_minor": 5
}
